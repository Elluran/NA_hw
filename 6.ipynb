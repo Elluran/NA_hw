{
 "cells": [
  {
   "cell_type": "code",
   "execution_count": 11,
   "metadata": {},
   "outputs": [],
   "source": [
    "import numpy as np\n",
    "import operator\n",
    "# from numpy.linalg import norm\n",
    "from numpy.linalg import inv\n",
    "from numpy.linalg import det\n",
    "import math\n",
    "from functools import reduce\n",
    "import pandas as pd\n",
    "# %matplotlib widget\n",
    "import matplotlib.pyplot as plt\n",
    "from matplotlib.pyplot import figure\n",
    "plt.style.use('seaborn-whitegrid')\n",
    "\n",
    "norm = lambda A: np.linalg.norm(A, ord=2)"
   ]
  },
  {
   "cell_type": "markdown",
   "metadata": {},
   "source": [
    "### Метод Якоби"
   ]
  },
  {
   "cell_type": "code",
   "execution_count": 28,
   "metadata": {},
   "outputs": [],
   "source": [
    "def get_H(n, precision):\n",
    "    # функция строит матрицу Гильберта размером n x n и округляет значения до precision знаков после запятой\n",
    "    a = lambda i, j: round(1 / (i + j + 1), precision)\n",
    "    return np.array([[a(i, j) for j in range(n)] for i in range(n)])\n",
    "\n",
    "def get_symmetric(n, rng=1, seed=None):\n",
    "    # строит произвольную симметричную матрицу n x n, можно задать seed\n",
    "    np.random.seed(seed=seed)\n",
    "    A = np.random.rand(n, n) - 0.5 * np.ones((n, n))\n",
    "    return (A + A.T) * rng"
   ]
  },
  {
   "cell_type": "code",
   "execution_count": 13,
   "metadata": {},
   "outputs": [],
   "source": [
    "def rotation_matrix(n, cosp, sinp, i, j):\n",
    "    # матрица вращения\n",
    "    A = np.eye(n)\n",
    "    A[i][i] =  cosp\n",
    "    A[i][j] = -sinp\n",
    "    A[j][i] =  sinp\n",
    "    A[j][j] =  cosp\n",
    "    return A"
   ]
  },
  {
   "cell_type": "code",
   "execution_count": 14,
   "metadata": {},
   "outputs": [],
   "source": [
    "def make_zero(A, i, j):\n",
    "    # обнуляет a_ij\n",
    "    n = len(A)\n",
    "    y = A[i][i] - A[j][j]\n",
    "    x = -2 * A[i][j]\n",
    "    if y == 0:\n",
    "        cosp = sinp = 1 / math.sqrt(2)\n",
    "    else:\n",
    "        cosp = math.sqrt((1 + abs(y) / math.sqrt(x**2 + y**2)) / 2)\n",
    "        sinp = np.sign(x * y) * abs(x) / 2 / cosp / math.sqrt(x**2 + y**2)\n",
    "    \n",
    "    Tij = rotation_matrix(n, cosp, sinp, i, j)\n",
    "    \n",
    "    A = Tij @ A @ inv(Tij)\n",
    "    return A\n",
    "    "
   ]
  },
  {
   "cell_type": "code",
   "execution_count": 15,
   "metadata": {},
   "outputs": [],
   "source": [
    "def max_R(A):\n",
    "    # Возвращает наибольший радиус Гершгорина и номер строки\n",
    "    n = len(A)\n",
    "    max_r = 0\n",
    "    row = 0\n",
    "    for i in range(n):\n",
    "        if sum(np.abs(A[i][0:i])) + sum(np.abs(A[i][i + 1:n])) > max_r:\n",
    "            max_r = sum(np.abs(A[i][0:i])) + sum(np.abs(A[i][i + 1:n]))\n",
    "            row = i\n",
    "\n",
    "    return (max_r, row)"
   ]
  },
  {
   "cell_type": "code",
   "execution_count": 16,
   "metadata": {},
   "outputs": [],
   "source": [
    "def get_eig_bounds(A):\n",
    "    # Возвращает отрезок, в котором лежат все с.ч.\n",
    "    n = len(A)\n",
    "    l = A[0][0]\n",
    "    r = A[0][0]\n",
    "\n",
    "    for i in range(n):\n",
    "        R = sum(np.abs(A[i][0:i])) + sum(np.abs(A[i][i + 1:n]))\n",
    "        l = min(l, A[i][i] - R)\n",
    "        r = max(r, A[i][i] + R)\n",
    "    \n",
    "    return l, r"
   ]
  },
  {
   "cell_type": "code",
   "execution_count": 17,
   "metadata": {},
   "outputs": [],
   "source": [
    "def jacobi(A, eps):\n",
    "    # Циклический метод\n",
    "    n = len(A)\n",
    "    iters = 0\n",
    "\n",
    "    while max_R(A)[0] > eps:\n",
    "        for i in range(n):\n",
    "            for j in range(i + 1, n):\n",
    "                A = make_zero(A, i, j)\n",
    "                iters += 1\n",
    "\n",
    "    return sorted(np.diagonal(A)), iters"
   ]
  },
  {
   "cell_type": "code",
   "execution_count": 18,
   "metadata": {},
   "outputs": [],
   "source": [
    "def jacobi2(A, eps):\n",
    "    # Стратегия \"преград-барьеров\"\n",
    "    n = len(A)\n",
    "    curr_eps = np.max(np.abs(A)) / 2\n",
    "    iters = 0\n",
    "\n",
    "    while max_R(A)[0] > eps:\n",
    "        for i in range(n):\n",
    "            for j in range(i + 1, n):\n",
    "                if abs(A[i][j]) > curr_eps:\n",
    "                    A = make_zero(A, i, j)\n",
    "                    iters += 1\n",
    "\n",
    "        curr_eps /= 2\n",
    "\n",
    "    return sorted(np.diagonal(A)), iters"
   ]
  },
  {
   "cell_type": "code",
   "execution_count": 19,
   "metadata": {},
   "outputs": [],
   "source": [
    "def check_results(A, eig):\n",
    "    R, ind =  max_R(A)\n",
    "    m, M = get_eig_bounds(A)\n",
    "    print(f\"Actual:     {min(eig):.14f} {max(eig):.14f}\")\n",
    "    print(f\"Gershgorin: {m:.14f} {M:.14f}\")\n",
    "    in_bounds = np.all(eig >= m) and np.all(eig <= M)\n",
    "    print(\"in the bounds\" if in_bounds else \"not in the bounds\")\n",
    "    print(\"diff with np:\", norm(np.array(eig) - np.array(sorted(np.linalg.eig(matrix)[0])))) \n",
    "        "
   ]
  },
  {
   "cell_type": "markdown",
   "metadata": {},
   "source": [
    "***\n",
    "#### Тесты"
   ]
  },
  {
   "cell_type": "code",
   "execution_count": 20,
   "metadata": {},
   "outputs": [
    {
     "name": "stdout",
     "output_type": "stream",
     "text": [
      "iterations: 24750\n",
      "Actual:     -0.00000000052737 2.18269609773652\n",
      "Gershgorin: -3.53061184110000 5.18737751760000\n",
      "in the bounds\n",
      "diff with np: 3.538381133583424e-12\n"
     ]
    }
   ],
   "source": [
    "matrix = get_H(100, 10)\n",
    "eps = 1e-10\n",
    "\n",
    "eigenvalues, iters = jacobi(matrix, eps)\n",
    "\n",
    "print(\"iterations:\", iters)\n",
    "res = sorted(eigenvalues)\n",
    "check_results(matrix, res)"
   ]
  },
  {
   "cell_type": "code",
   "execution_count": 21,
   "metadata": {},
   "outputs": [
    {
     "name": "stdout",
     "output_type": "stream",
     "text": [
      "iterations: 11706\n",
      "Actual:     -0.00000000052718 2.18269609773655\n",
      "Gershgorin: -3.53061184110000 5.18737751760000\n",
      "in the bounds\n",
      "diff with np: 4.600012075332964e-12\n"
     ]
    }
   ],
   "source": [
    "matrix = get_H(100, 10)\n",
    "eps = 1e-10\n",
    "\n",
    "eigenvalues, iters = jacobi2(matrix, eps)\n",
    "\n",
    "print(\"iterations:\", iters)\n",
    "res = sorted(eigenvalues)\n",
    "check_results(matrix, res)"
   ]
  },
  {
   "cell_type": "code",
   "execution_count": 22,
   "metadata": {},
   "outputs": [
    {
     "name": "stdout",
     "output_type": "stream",
     "text": [
      "iterations: 8575\n",
      "Actual:     -55.02261176726022 50.04339623514577\n",
      "Gershgorin: -196.98770767887771 204.83850757673696\n",
      "in the bounds\n",
      "diff with np: 7.749451907356228e-13\n"
     ]
    }
   ],
   "source": [
    "n = 50\n",
    "matrix = get_symmetric(n, 10, seed=42)\n",
    "eps = 1e-7\n",
    "\n",
    "eigenvalues, iters = jacobi(matrix, eps)\n",
    "\n",
    "print(\"iterations:\", iters)\n",
    "res = sorted(eigenvalues)\n",
    "check_results(matrix, res)"
   ]
  },
  {
   "cell_type": "code",
   "execution_count": 23,
   "metadata": {},
   "outputs": [
    {
     "name": "stdout",
     "output_type": "stream",
     "text": [
      "iterations: 4809\n",
      "Actual:     -55.02261176726005 50.04339623514575\n",
      "Gershgorin: -196.98770767887771 204.83850757673696\n",
      "in the bounds\n",
      "diff with np: 6.671172275658177e-13\n"
     ]
    }
   ],
   "source": [
    "n = 50\n",
    "matrix = get_symmetric(n, 10, seed=42)\n",
    "eps = 1e-7\n",
    "\n",
    "eigenvalues, iters = jacobi2(matrix, eps)\n",
    "\n",
    "print(\"iterations:\", iters)\n",
    "res = sorted(eigenvalues)\n",
    "check_results(matrix, res)"
   ]
  },
  {
   "cell_type": "code",
   "execution_count": 24,
   "metadata": {},
   "outputs": [
    {
     "name": "stdout",
     "output_type": "stream",
     "text": [
      "eps: 1.0000000000e-02    iterations:     90     diff with np: 1.5165367622145836e-05\n",
      "eps: 4.6415888336e-03    iterations:     90     diff with np: 1.5165367622145836e-05\n",
      "eps: 2.1544346900e-03    iterations:     90     diff with np: 1.5165367622145836e-05\n",
      "eps: 1.0000000000e-03    iterations:     90     diff with np: 1.5165367622145836e-05\n",
      "eps: 4.6415888336e-04    iterations:    135     diff with np: 3.512722935726444e-09\n",
      "eps: 2.1544346900e-04    iterations:    135     diff with np: 3.512722935726444e-09\n",
      "eps: 1.0000000000e-04    iterations:    135     diff with np: 3.512722935726444e-09\n",
      "eps: 4.6415888336e-05    iterations:    135     diff with np: 3.512722935726444e-09\n",
      "eps: 2.1544346900e-05    iterations:    135     diff with np: 3.512722935726444e-09\n",
      "eps: 1.0000000000e-05    iterations:    135     diff with np: 3.512722935726444e-09\n",
      "eps: 4.6415888336e-06    iterations:    135     diff with np: 3.512722935726444e-09\n",
      "eps: 2.1544346900e-06    iterations:    135     diff with np: 3.512722935726444e-09\n",
      "eps: 1.0000000000e-06    iterations:    135     diff with np: 3.512722935726444e-09\n",
      "eps: 4.6415888336e-07    iterations:    180     diff with np: 2.790241963671412e-13\n",
      "eps: 2.1544346900e-07    iterations:    180     diff with np: 2.790241963671412e-13\n"
     ]
    }
   ],
   "source": [
    "matrix = get_H(10, 20)\n",
    "\n",
    "for eps in np.logspace(-2, -7, 15, endpoint=False):\n",
    "    eigenvalues, iters = jacobi(matrix, eps)\n",
    "    diff = norm(np.array(eigenvalues) - np.array(sorted(np.linalg.eig(matrix)[0])))\n",
    "    print( f\"eps: {eps:.10e}   \", \"iterations:\", \"{:6}    \".format(iters), \"diff with np:\", diff)"
   ]
  },
  {
   "cell_type": "code",
   "execution_count": 25,
   "metadata": {},
   "outputs": [
    {
     "name": "stdout",
     "output_type": "stream",
     "text": [
      "eps: 1.0000000000e-02    iterations:     39     diff with np: 0.0017912244666478342\n",
      "eps: 4.6415888336e-03    iterations:     44     diff with np: 0.0017897082482147913\n",
      "eps: 2.1544346900e-03    iterations:     52     diff with np: 0.0005539220270549594\n",
      "eps: 1.0000000000e-03    iterations:     57     diff with np: 9.67653746819616e-05\n",
      "eps: 4.6415888336e-04    iterations:     63     diff with np: 9.690331589305865e-05\n",
      "eps: 2.1544346900e-04    iterations:     67     diff with np: 9.69358596836561e-05\n",
      "eps: 1.0000000000e-04    iterations:     73     diff with np: 1.3040765110594776e-05\n",
      "eps: 4.6415888336e-05    iterations:     78     diff with np: 3.7975491274791704e-06\n",
      "eps: 2.1544346900e-05    iterations:     78     diff with np: 3.7975491274791704e-06\n",
      "eps: 1.0000000000e-05    iterations:     82     diff with np: 3.7974939710950937e-06\n",
      "eps: 4.6415888336e-06    iterations:     91     diff with np: 3.6961464518888157e-07\n",
      "eps: 2.1544346900e-06    iterations:     97     diff with np: 7.630210706049128e-08\n",
      "eps: 1.0000000000e-06    iterations:    101     diff with np: 7.630123989634475e-08\n",
      "eps: 4.6415888336e-07    iterations:    109     diff with np: 7.624880007490593e-08\n",
      "eps: 2.1544346900e-07    iterations:    112     diff with np: 7.622182648766807e-08\n"
     ]
    }
   ],
   "source": [
    "matrix = get_H(10, 20)\n",
    "\n",
    "for eps in np.logspace(-2, -7, 15, endpoint=False):\n",
    "    eigenvalues, iters = jacobi2(matrix, eps)\n",
    "    diff = norm(np.array(eigenvalues) - np.array(sorted(np.linalg.eig(matrix)[0])))\n",
    "    print( f\"eps: {eps:.10e}   \", \"iterations:\", \"{:6}    \".format(iters), \"diff with np:\", diff)"
   ]
  },
  {
   "cell_type": "code",
   "execution_count": 26,
   "metadata": {},
   "outputs": [
    {
     "name": "stdout",
     "output_type": "stream",
     "text": [
      "eps: 1.0000000000e-02    iterations:    950     diff with np: 3.190980905024334e-11\n",
      "eps: 1.4677992676e-03    iterations:    950     diff with np: 3.190980905024334e-11\n",
      "eps: 2.1544346900e-04    iterations:    950     diff with np: 3.190980905024334e-11\n",
      "eps: 3.1622776602e-05    iterations:    950     diff with np: 3.190980905024334e-11\n",
      "eps: 4.6415888336e-06    iterations:   1140     diff with np: 1.9324582278024977e-13\n",
      "eps: 6.8129206906e-07    iterations:   1140     diff with np: 1.9324582278024977e-13\n",
      "eps: 1.0000000000e-07    iterations:   1140     diff with np: 1.9324582278024977e-13\n"
     ]
    }
   ],
   "source": [
    "n = 20\n",
    "matrix = get_symmetric(n, 10, seed=123)\n",
    "\n",
    "for eps in np.logspace(-2, -7, 7):\n",
    "    eigenvalues, iters = jacobi(matrix, eps)\n",
    "    diff = norm(np.array(eigenvalues) - np.array(sorted(np.linalg.eig(matrix)[0])))\n",
    "    print( f\"eps: {eps:.10e}   \", \"iterations:\", \"{:6}    \".format(iters), \"diff with np:\", diff)"
   ]
  },
  {
   "cell_type": "code",
   "execution_count": 27,
   "metadata": {},
   "outputs": [
    {
     "name": "stdout",
     "output_type": "stream",
     "text": [
      "eps: 1.0000000000e-02    iterations:    513     diff with np: 5.577406553425442e-07\n",
      "eps: 1.4677992676e-03    iterations:    542     diff with np: 3.917936084273757e-08\n",
      "eps: 2.1544346900e-04    iterations:    580     diff with np: 6.108115412685773e-10\n",
      "eps: 3.1622776602e-05    iterations:    617     diff with np: 7.301024914414115e-12\n",
      "eps: 4.6415888336e-06    iterations:    643     diff with np: 5.789885455676922e-13\n",
      "eps: 6.8129206906e-07    iterations:    664     diff with np: 2.2113424322591756e-13\n",
      "eps: 1.0000000000e-07    iterations:    687     diff with np: 2.1705995879737016e-13\n"
     ]
    }
   ],
   "source": [
    "n = 20\n",
    "matrix = get_symmetric(n, 10, seed=123)\n",
    "\n",
    "for eps in np.logspace(-2, -7, 7):\n",
    "    eigenvalues, iters = jacobi2(matrix, eps)\n",
    "    diff = norm(np.array(eigenvalues) - np.array(sorted(np.linalg.eig(matrix)[0])))\n",
    "    print( f\"eps: {eps:.10e}   \", \"iterations:\", \"{:6}    \".format(iters), \"diff with np:\", diff)"
   ]
  }
 ],
 "metadata": {
  "interpreter": {
   "hash": "a0cb2e979de641277f6c267c15c5c3e0b07c224e5fc1a5010b37b6789b42f231"
  },
  "kernelspec": {
   "display_name": "Python 3.8.10 ('venv': venv)",
   "language": "python",
   "name": "python3"
  },
  "language_info": {
   "codemirror_mode": {
    "name": "ipython",
    "version": 3
   },
   "file_extension": ".py",
   "mimetype": "text/x-python",
   "name": "python",
   "nbconvert_exporter": "python",
   "pygments_lexer": "ipython3",
   "version": "3.8.10"
  },
  "orig_nbformat": 4
 },
 "nbformat": 4,
 "nbformat_minor": 2
}
