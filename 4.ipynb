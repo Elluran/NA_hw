{
 "cells": [
  {
   "cell_type": "code",
   "execution_count": 1,
   "metadata": {},
   "outputs": [],
   "source": [
    "import numpy as np\n",
    "import operator\n",
    "# from numpy.linalg import norm\n",
    "from numpy.linalg import inv\n",
    "from numpy.linalg import det\n",
    "import math\n",
    "from functools import reduce\n",
    "import pandas as pd\n",
    "# %matplotlib widget\n",
    "import matplotlib.pyplot as plt\n",
    "from matplotlib.pyplot import figure\n",
    "plt.style.use('seaborn-whitegrid')\n",
    "import functools\n",
    "from ipywidgets import FloatProgress\n",
    "from IPython.display import display\n",
    "\n",
    "norm = lambda A: np.linalg.norm(A, ord=2)"
   ]
  },
  {
   "cell_type": "markdown",
   "metadata": {},
   "source": [
    "### Решение СЛАУ методом простой итерации и методом релаксации"
   ]
  },
  {
   "cell_type": "code",
   "execution_count": 128,
   "metadata": {},
   "outputs": [],
   "source": [
    "def get_H(n, precision):\n",
    "    # функция строит матрицу Гильберта размером n x n и округляет значения до precision знаков после запятой\n",
    "    a = lambda i, j: round(1 / (i + j + 1), precision)\n",
    "    return np.array([[a(i, j) for j in range(n)] for i in range(n)])"
   ]
  },
  {
   "cell_type": "markdown",
   "metadata": {},
   "source": [
    "#### Метод простой итерации"
   ]
  },
  {
   "cell_type": "code",
   "execution_count": 269,
   "metadata": {},
   "outputs": [],
   "source": [
    "def check_ddm(A):\n",
    "    # функция для проверки, что матрица обладает диагональным преобладанием\n",
    "    n = len(A)\n",
    "    for i in range(n):\n",
    "        s = sum(np.abs(A[i][0:i])) + sum(np.abs(A[i][i + 1:n]))\n",
    "        if abs(A[i][i]) < s:\n",
    "            return False\n",
    "\n",
    "    return True\n",
    "\n",
    "\n",
    "def find_eigenvalues_bounds(A):\n",
    "    # находим оценки для собственных чисел\n",
    "    n = len(A)\n",
    "    m = A[0][0]\n",
    "    M = A[0][0]\n",
    "    for i in range(n):\n",
    "        r = sum(np.abs(A[i][0:i])) + sum(np.abs(A[i][i + 1:n]))\n",
    "        m = min(m, A[i][i] - r)\n",
    "        M = max(M, A[i][i] + r)\n",
    "    return m, M\n",
    "\n",
    "\n",
    "def eval_precision(B, x_curr, x_prev):\n",
    "    # апостериорная оценка погрешности\n",
    "    return norm(B) / (1 - norm(B)) * norm(x_curr - x_prev)\n",
    "\n",
    "\n",
    "def iterative_method(A, b, eps):\n",
    "    # метод простой итерации\n",
    "    n = len(b)\n",
    "    if check_ddm(A):\n",
    "        B = np.array([[0 if i == j else -A[i][j] / A[i][i] for j in range(n)] for i in range(n)])\n",
    "        c = np.array([b[i] / A[i][i] for i in range(n)])\n",
    "    elif (A == (A.conjugate()).T).all() and (np.linalg.eig(A)[0] > 0).all():\n",
    "        m, M = find_eigenvalues_bounds(A)\n",
    "        m = max(m, 0)\n",
    "        alpha = 2 / (m + M)\n",
    "        B = np.eye(n) - alpha * A\n",
    "        c = alpha * b\n",
    "    else:\n",
    "        print(\"Wrong matrix!\")\n",
    "        return\n",
    "    \n",
    "    x_prev = np.ones(n)\n",
    "    x_curr = B @ x_prev + c\n",
    "\n",
    "    iters = 0\n",
    "\n",
    "    while eval_precision(B, x_curr, x_prev) > eps:\n",
    "        x_prev, x_curr = x_curr, B @ x_curr + c\n",
    "        iters += 1\n",
    "    \n",
    "    print(\"iters\", iters)\n",
    "\n",
    "    return x_curr\n"
   ]
  },
  {
   "cell_type": "markdown",
   "metadata": {},
   "source": [
    "#### Метод релаксации"
   ]
  },
  {
   "cell_type": "code",
   "execution_count": 242,
   "metadata": {},
   "outputs": [],
   "source": [
    "def relaxation_method(A, b, eps):\n",
    "    n = len(A)\n",
    "    x = np.zeros(n)\n",
    "    iters = 0\n",
    "    while True:\n",
    "        for index in np.random.choice(range(n), n):\n",
    "            if A[index][index] == 0:\n",
    "                continue\n",
    "            x[index] = (b[index] - sum([A[index][k] * x[k] for k in range(index)]) - sum([A[index][k] * x[k] for k in range(index + 1, n)])) / A[index][index]\n",
    "\n",
    "        r = b - A @ x\n",
    "\n",
    "        if max(abs(r)) < eps:\n",
    "            break\n",
    "\n",
    "        if iters % 2 == 0:\n",
    "            print(f\"{max(abs(r)):.5e}\", flush=True, end='\\r')\n",
    "        iters += 1\n",
    "\n",
    "    print(end='\\r')\n",
    "    print()\n",
    "    print(\"iters:\", iters)\n",
    "    return x"
   ]
  },
  {
   "cell_type": "code",
   "execution_count": 221,
   "metadata": {},
   "outputs": [],
   "source": [
    "def relaxation_method2(A, b, eps):\n",
    "    n = len(A)\n",
    "    x = np.zeros(n)\n",
    "    iters = 0\n",
    "    while True:        \n",
    "        best_x = x\n",
    "        for x_i, r_i in zip(range(n), range(n)):\n",
    "            tmp_x = x\n",
    "            if A[r_i][x_i] == 0:\n",
    "                continue\n",
    "\n",
    "            tmp_x[x_i] = (b[r_i] - sum([A[r_i][k] * x[k] for k in range(x_i)]) - sum([A[r_i][k] * x[k] for k in range(x_i + 1, n)])) / A[r_i][x_i]\n",
    "            if norm(b - A @ tmp_x) < norm(b - A @ best_x):\n",
    "                best_x = tmp_x\n",
    "        \n",
    "        x = best_x\n",
    "        r = b - A @ x\n",
    "\n",
    "        if max(abs(r)) < eps:\n",
    "            break\n",
    "        \n",
    "        if iters % 2 == 0:\n",
    "            print(f\"{max(abs(r)):.5e}\", flush=True, end='\\r')\n",
    "        iters += 1\n",
    "    \n",
    "    print(end='\\r')\n",
    "    print()\n",
    "    print(\"iters:\", iters)\n",
    "    return x"
   ]
  },
  {
   "cell_type": "markdown",
   "metadata": {},
   "source": [
    "***\n",
    "### Тесты"
   ]
  },
  {
   "cell_type": "code",
   "execution_count": 73,
   "metadata": {},
   "outputs": [
    {
     "name": "stdout",
     "output_type": "stream",
     "text": [
      "eps: 1e-02  iters 67251\n",
      "eps: 3e-03  iters 82523\n",
      "eps: 6e-04  iters 97795\n",
      "eps: 2e-04  iters 113066\n",
      "eps: 4e-05  iters 128338\n",
      "eps: 1e-05  iters 143610\n",
      "CPU times: user 48.9 s, sys: 269 ms, total: 49.2 s\n",
      "Wall time: 49.1 s\n"
     ]
    }
   ],
   "source": [
    "%%time\n",
    "n = 4\n",
    "matrix = get_H(n, 5)\n",
    "x_0 = np.random.random_sample(n) * 10 - 5\n",
    "# x_0 = np.ones(n) \n",
    "\n",
    "b = matrix @ x_0\n",
    "for eps in np.logspace(-2, -5, 6):\n",
    "    print(f\"eps: {eps:.0e}  \", end=\"\")\n",
    "    x = iterative_method(matrix, b, eps)"
   ]
  },
  {
   "cell_type": "code",
   "execution_count": 272,
   "metadata": {},
   "outputs": [
    {
     "name": "stdout",
     "output_type": "stream",
     "text": [
      "iters 183588\n",
      "[-1.01955745  2.37995406 -3.1750827  -3.24548244]\n",
      "[-1.01955744  2.37995402 -3.17508262 -3.24548249]\n",
      "1.0000062904536809e-07\n",
      "CPU times: user 14.6 s, sys: 94.3 ms, total: 14.7 s\n",
      "Wall time: 14.7 s\n"
     ]
    }
   ],
   "source": [
    "%%time\n",
    "n = 4\n",
    "matrix = get_H(n, 5)\n",
    "x_0 = np.random.random_sample(n) * 10 - 5\n",
    "# x_0 = np.ones(n) * 2\n",
    "b = matrix @ x_0\n",
    "eps = 1e-7\n",
    "\n",
    "x = iterative_method(matrix, b, eps)\n",
    "\n",
    "print(x_0)\n",
    "print(x)\n",
    "print(norm(x - x_0))"
   ]
  },
  {
   "cell_type": "code",
   "execution_count": 271,
   "metadata": {},
   "outputs": [
    {
     "name": "stdout",
     "output_type": "stream",
     "text": [
      "iters 15\n",
      "[-1.56821984  2.29049707 -0.61427755 -4.40322103]\n",
      "[-1.56821983  2.29049707 -0.61427755 -4.40322103]\n",
      "1.3928907960544109e-08\n",
      "CPU times: user 2.75 ms, sys: 953 µs, total: 3.7 ms\n",
      "Wall time: 3.93 ms\n"
     ]
    }
   ],
   "source": [
    "%%time\n",
    "n = 4\n",
    "matrix = np.array([[4, 1, 0, 0], [3, 7, -1, 0], [0, 2, 10, 1], [0, 0, 1, -2]])\n",
    "x_0 = np.random.random_sample(n) * 10 - 5\n",
    "# x_0 = np.ones(n) * 2\n",
    "b = matrix @ x_0\n",
    "eps = 1e-7\n",
    "\n",
    "x = iterative_method(matrix, b, eps)\n",
    "\n",
    "print(x_0)\n",
    "print(x)\n",
    "print(norm(x - x_0))"
   ]
  },
  {
   "cell_type": "code",
   "execution_count": 288,
   "metadata": {},
   "outputs": [
    {
     "name": "stdout",
     "output_type": "stream",
     "text": [
      "iters 129356\n",
      "error: 9.999951840140794e-06\n",
      "CPU times: user 10.3 s, sys: 0 ns, total: 10.3 s\n",
      "Wall time: 10.4 s\n"
     ]
    }
   ],
   "source": [
    "%%time\n",
    "n = 4\n",
    "matrix = get_H(n, 20)\n",
    "np.random.seed(seed=123)\n",
    "x_0 = np.random.random_sample(n) * 10 - 5\n",
    "# x_0 = np.ones(n) \n",
    "\n",
    "b = matrix @ x_0\n",
    "eps = 1e-5\n",
    "x = iterative_method(matrix, b, eps)\n",
    "\n",
    "print(\"error:\", norm(x - x_0))"
   ]
  },
  {
   "cell_type": "code",
   "execution_count": 289,
   "metadata": {},
   "outputs": [
    {
     "name": "stdout",
     "output_type": "stream",
     "text": [
      "1.00040e-10\n",
      "iters: 14911\n",
      "error: 1.0630055634128142e-06\n",
      "biggest res: 9.994272076596644e-11\n",
      "CPU times: user 5.71 s, sys: 763 ms, total: 6.47 s\n",
      "Wall time: 9.71 s\n"
     ]
    }
   ],
   "source": [
    "%%time\n",
    "matrix = get_H(4, 20)\n",
    "n = len(matrix)\n",
    "\n",
    "\n",
    "np.random.seed(seed=123)\n",
    "x_0 = np.random.random_sample(n) * 10 - 5\n",
    "b = matrix @ x_0\n",
    "eps = 1e-10\n",
    "x = relaxation_method2(matrix, b, eps)\n",
    "\n",
    "print(\"error:\", norm(x - x_0))\n",
    "print(\"biggest res:\", max(abs(b - matrix @ x)))"
   ]
  },
  {
   "cell_type": "markdown",
   "metadata": {},
   "source": [
    "***\n",
    "### Большие разреженные матрицы"
   ]
  },
  {
   "cell_type": "code",
   "execution_count": 260,
   "metadata": {},
   "outputs": [],
   "source": [
    "def get_symmetric(n, rng=1, density=0, seed=None):\n",
    "    np.random.seed(seed=seed)\n",
    "    A = np.zeros((n, n))\n",
    "\n",
    "    for i in range(n):\n",
    "        for e in range(i + 1, n):\n",
    "            if np.random.choice([0, 1], p=[1 - density, density]):\n",
    "                c = np.random.rand() * rng * 2 - rng\n",
    "                A[i][e] = c\n",
    "                A[e][i] = c\n",
    "\n",
    "    for i in range(n):\n",
    "        A[i][i] = sum(abs(A[i][:])) + np.random.rand() * rng\n",
    "\n",
    "    return A"
   ]
  },
  {
   "cell_type": "code",
   "execution_count": 233,
   "metadata": {},
   "outputs": [
    {
     "data": {
      "text/plain": [
       "array([[ 11.46893114,   0.        ,   0.        ,   0.        ,   0.        ,  -3.0757416 ,   7.39318954,   0.        ],\n",
       "       [  0.        ,  16.15744099,   0.        ,   0.        ,  -2.45711021,   0.        ,   0.        , -12.70033078],\n",
       "       [  0.        ,   0.        ,   9.97821299,   0.        ,   0.        ,   0.        ,   0.        ,   8.97821299],\n",
       "       [  0.        ,   0.        ,   0.        ,   8.08164345,   0.        ,  -7.08164345,   0.        ,   0.        ],\n",
       "       [  0.        ,  -2.45711021,   0.        ,   0.        ,   3.45711021,   0.        ,   0.        ,   0.        ],\n",
       "       [ -3.0757416 ,   0.        ,   0.        ,  -7.08164345,   0.        ,  11.15738504,   0.        ,   0.        ],\n",
       "       [  7.39318954,   0.        ,   0.        ,   0.        ,   0.        ,   0.        ,   8.39318954,   0.        ],\n",
       "       [  0.        , -12.70033078,   8.97821299,   0.        ,   0.        ,   0.        ,   0.        ,  22.67854378]])"
      ]
     },
     "execution_count": 233,
     "metadata": {},
     "output_type": "execute_result"
    }
   ],
   "source": [
    "np.set_printoptions(threshold=np.inf)\n",
    "np.set_printoptions(linewidth=np.inf)\n",
    "get_symmetric(8, density=0.3, seed=123, rng=20)"
   ]
  },
  {
   "cell_type": "code",
   "execution_count": 261,
   "metadata": {},
   "outputs": [
    {
     "name": "stderr",
     "output_type": "stream",
     "text": [
      "/mnt/sdb1/university/6/calcs practices/hw/venv/lib/python3.8/site-packages/numpy/linalg/linalg.py:2146: RuntimeWarning: overflow encountered in det\n",
      "  r = _umath_linalg.det(a, signature=signature)\n"
     ]
    },
    {
     "name": "stdout",
     "output_type": "stream",
     "text": [
      "1.30385e-08\n",
      "iters: 15\n",
      "error: 8.838676222867268e-14\n",
      "biggest res: 7.450580596923828e-09\n",
      "CPU times: user 4.46 s, sys: 2.21 s, total: 6.67 s\n",
      "Wall time: 2.96 s\n"
     ]
    }
   ],
   "source": [
    "%%time\n",
    "\n",
    "matrix = get_symmetric(300, rng=10000, density=0.2, seed=256)\n",
    "n = len(matrix)\n",
    "\n",
    "assert det(matrix) != 0, \"det is zero\"\n",
    "assert (matrix == (matrix.conjugate()).T).all() and (np.linalg.eig(matrix)[0] > 0).all(), \"bad matrix\"\n",
    "\n",
    "np.random.seed(seed=127)\n",
    "x_0 = np.random.rand(n) * 100 - 50\n",
    "b = matrix @ x_0\n",
    "eps = 1e-8\n",
    "x = relaxation_method2(matrix, b, eps)\n",
    "\n",
    "print(\"error:\", norm(x - x_0))\n",
    "print(\"biggest res:\", max(abs(b - matrix @ x)))"
   ]
  },
  {
   "cell_type": "code",
   "execution_count": 262,
   "metadata": {},
   "outputs": [
    {
     "name": "stdout",
     "output_type": "stream",
     "text": [
      "1.76951e-08\n",
      "iters: 56\n",
      "error: 8.497531641349451e-14\n",
      "biggest res: 7.450580596923828e-09\n",
      "CPU times: user 6.73 s, sys: 2.98 s, total: 9.71 s\n",
      "Wall time: 4.15 s\n"
     ]
    }
   ],
   "source": [
    "%%time\n",
    "\n",
    "matrix = get_symmetric(300, rng=10000, density=0.2, seed=256)\n",
    "n = len(matrix)\n",
    "\n",
    "assert det(matrix) != 0, \"det is zero\"\n",
    "assert (matrix == (matrix.conjugate()).T).all() and (np.linalg.eig(matrix)[0] > 0).all(), \"bad matrix\"\n",
    "\n",
    "np.random.seed(seed=127)\n",
    "x_0 = np.random.rand(n) * 100 - 50\n",
    "b = matrix @ x_0\n",
    "eps = 1e-8\n",
    "x = relaxation_method(matrix, b, eps)\n",
    "\n",
    "print(\"error:\", norm(x - x_0))\n",
    "print(\"biggest res:\", max(abs(b - matrix @ x)))"
   ]
  },
  {
   "cell_type": "code",
   "execution_count": 263,
   "metadata": {},
   "outputs": [
    {
     "name": "stdout",
     "output_type": "stream",
     "text": [
      "4.37722e-08\n",
      "iters: 55\n",
      "error: 1.535299163405393e-13\n",
      "biggest res: 4.6566128730773926e-09\n",
      "CPU times: user 7.15 s, sys: 2.67 s, total: 9.82 s\n",
      "Wall time: 3.97 s\n"
     ]
    }
   ],
   "source": [
    "%%time\n",
    "\n",
    "matrix = get_symmetric(300, rng=3000, density=0.2, seed=145)\n",
    "n = len(matrix)\n",
    "\n",
    "assert det(matrix) != 0, \"det is zero\"\n",
    "assert (matrix == (matrix.conjugate()).T).all() and (np.linalg.eig(matrix)[0] > 0).all(), \"bad matrix\"\n",
    "\n",
    "np.random.seed(seed=14)\n",
    "x_0 = np.random.rand(n) * 100 - 50\n",
    "b = matrix @ x_0\n",
    "eps = 1e-8\n",
    "x = relaxation_method(matrix, b, eps)\n",
    "\n",
    "print(\"error:\", norm(x - x_0))\n",
    "print(\"biggest res:\", max(abs(b - matrix @ x)))"
   ]
  },
  {
   "cell_type": "code",
   "execution_count": 264,
   "metadata": {},
   "outputs": [
    {
     "name": "stdout",
     "output_type": "stream",
     "text": [
      "1.61305e-06\n",
      "iters: 11\n",
      "error: 4.747383273094868e-13\n",
      "biggest res: 8.195638656616211e-08\n",
      "CPU times: user 6.55 s, sys: 2.82 s, total: 9.37 s\n",
      "Wall time: 4.31 s\n"
     ]
    }
   ],
   "source": [
    "%%time\n",
    "\n",
    "matrix = get_symmetric(400, rng=10000, density=0.3, seed=1024)\n",
    "n = len(matrix)\n",
    "\n",
    "assert det(matrix) != 0, \"det is zero\"\n",
    "assert (matrix == (matrix.conjugate()).T).all() and (np.linalg.eig(matrix)[0] > 0).all(), \"bad matrix\"\n",
    "\n",
    "np.random.seed(seed=37)\n",
    "x_0 = np.random.rand(n) * 100 - 50\n",
    "b = matrix @ x_0\n",
    "eps = 1e-6\n",
    "x = relaxation_method2(matrix, b, eps)\n",
    "\n",
    "print(\"error:\", norm(x - x_0))\n",
    "print(\"biggest res:\", max(abs(b - matrix @ x)))"
   ]
  },
  {
   "cell_type": "code",
   "execution_count": 265,
   "metadata": {},
   "outputs": [
    {
     "name": "stdout",
     "output_type": "stream",
     "text": [
      "4.46849e-06\n",
      "iters: 46\n",
      "error: 2.6723868582567984e-12\n",
      "biggest res: 7.413327693939209e-07\n",
      "CPU times: user 9.43 s, sys: 3.71 s, total: 13.1 s\n",
      "Wall time: 5.33 s\n"
     ]
    }
   ],
   "source": [
    "%%time\n",
    "\n",
    "matrix = get_symmetric(400, rng=10000, density=0.3, seed=1024)\n",
    "n = len(matrix)\n",
    "\n",
    "assert det(matrix) != 0, \"det is zero\"\n",
    "assert (matrix == (matrix.conjugate()).T).all() and (np.linalg.eig(matrix)[0] > 0).all(), \"bad matrix\"\n",
    "\n",
    "np.random.seed(seed=37)\n",
    "x_0 = np.random.rand(n) * 100 - 50\n",
    "b = matrix @ x_0\n",
    "eps = 1e-6\n",
    "x = relaxation_method(matrix, b, eps)\n",
    "\n",
    "print(\"error:\", norm(x - x_0))\n",
    "print(\"biggest res:\", max(abs(b - matrix @ x)))"
   ]
  },
  {
   "cell_type": "code",
   "execution_count": 301,
   "metadata": {},
   "outputs": [
    {
     "name": "stdout",
     "output_type": "stream",
     "text": [
      "iters 19\n",
      "error: 8.381292669139096e-13\n",
      "biggest res: 6.705522537231445e-08\n",
      "error: 8.381292669139096e-13\n",
      "CPU times: user 4.71 s, sys: 1.25 s, total: 5.95 s\n",
      "Wall time: 2.97 s\n"
     ]
    }
   ],
   "source": [
    "%%time\n",
    "\n",
    "matrix = get_symmetric(400, rng=10000, density=0.3, seed=1024)\n",
    "n = len(matrix)\n",
    "\n",
    "assert det(matrix) != 0, \"det is zero\"\n",
    "assert (matrix == (matrix.conjugate()).T).all() and (np.linalg.eig(matrix)[0] > 0).all(), \"bad matrix\"\n",
    "\n",
    "np.random.seed(seed=37)\n",
    "x_0 = np.random.rand(n) * 100 - 50\n",
    "b = matrix @ x_0\n",
    "eps = 1e-12\n",
    "\n",
    "x = iterative_method(matrix, b, eps)\n",
    "\n",
    "print(\"error:\", norm(x - x_0))\n",
    "print(\"biggest res:\", max(abs(b - matrix @ x)))\n",
    "print(\"error:\", norm(x - x_0))"
   ]
  }
 ],
 "metadata": {
  "interpreter": {
   "hash": "a0cb2e979de641277f6c267c15c5c3e0b07c224e5fc1a5010b37b6789b42f231"
  },
  "kernelspec": {
   "display_name": "Python 3.8.10 ('venv': venv)",
   "language": "python",
   "name": "python3"
  },
  "language_info": {
   "codemirror_mode": {
    "name": "ipython",
    "version": 3
   },
   "file_extension": ".py",
   "mimetype": "text/x-python",
   "name": "python",
   "nbconvert_exporter": "python",
   "pygments_lexer": "ipython3",
   "version": "3.8.10"
  },
  "orig_nbformat": 4
 },
 "nbformat": 4,
 "nbformat_minor": 2
}
